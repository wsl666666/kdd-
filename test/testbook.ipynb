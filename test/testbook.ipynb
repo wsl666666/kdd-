{
 "cells": [
  {
   "cell_type": "code",
   "execution_count": null,
   "metadata": {},
   "outputs": [],
   "source": [
    "import numpy as np \n",
    "from sys import getsizeof\n",
    "from typing import Dict, Tuple\n"
   ]
  },
  {
   "cell_type": "code",
   "execution_count": null,
   "metadata": {},
   "outputs": [],
   "source": [
    "max_node = 0\n",
    "node_labels = np.ones(max_node, dtype=int) * max_node\n",
    "print( 'node-label',  round(getsizeof(node_labels) / 1024 / 1024 /1024 ,2) )\n",
    "\n",
    "node_feature = np.ones((max_node, 300), dtype=float)\n",
    "print( 'node-feat',  round(getsizeof(node_feature) / 1024 / 1024/ 1024,2) )\n",
    "\n",
    "# edge_feature = np.ones((max_node*max_node*0.003, 300), dtype=int)\n",
    "# print( 'node-feat',  round(getsizeof(node_labels) / 1024 / 1024,2) )\n"
   ]
  },
  {
   "cell_type": "code",
   "execution_count": null,
   "metadata": {},
   "outputs": [],
   "source": [
    "round(getsizeof(node_labels) / 1024 / 1024,2)"
   ]
  },
  {
   "cell_type": "code",
   "execution_count": null,
   "metadata": {},
   "outputs": [],
   "source": [
    "# sparse vector\n",
    "round(getsizeof(node_labels) / 1024 / 1024 ,2)"
   ]
  },
  {
   "cell_type": "code",
   "execution_count": null,
   "metadata": {},
   "outputs": [],
   "source": [
    "node_feature.shape"
   ]
  },
  {
   "cell_type": "code",
   "execution_count": null,
   "metadata": {},
   "outputs": [],
   "source": []
  },
  {
   "cell_type": "code",
   "execution_count": null,
   "metadata": {},
   "outputs": [],
   "source": [
    "np.empty(shape=(0),dtype=int)"
   ]
  },
  {
   "cell_type": "code",
   "execution_count": null,
   "metadata": {},
   "outputs": [],
   "source": [
    "a = np.array([1,2,3], dtype=int)\n",
    "np.hstack((a, np.nan))"
   ]
  },
  {
   "cell_type": "code",
   "execution_count": null,
   "metadata": {},
   "outputs": [],
   "source": [
    "structure_events_dict: Dict[Tuple[int, int], int] = {}"
   ]
  },
  {
   "cell_type": "code",
   "execution_count": null,
   "metadata": {},
   "outputs": [],
   "source": [
    "    # E = [\n",
    "    #     (0,1,1,1,1),\n",
    "    #     (0,2,1,1,1),\n",
    "    #     (0,3,1,1,1),\n",
    "    #     (0,4,1,1,1),\n",
    "    #     ]\n",
    "    # # new snapshot...\n",
    "    # E_new = [\n",
    "    #     [(0,2,1,1,1),(2,3,1,1,1)],\n",
    "    # ]\n",
    "    # snapshot_ppv = test_dynamic_ppr_batch_source(E, E_new)\n",
    "    # print (snapshot_ppv)\n",
    "    # print(f'Threading layer chosen: {numba.threading_layer()}' )\n",
    "\n"
   ]
  },
  {
   "cell_type": "code",
   "execution_count": null,
   "metadata": {},
   "outputs": [],
   "source": []
  },
  {
   "cell_type": "code",
   "execution_count": null,
   "metadata": {},
   "outputs": [],
   "source": [
    "a.fill(np.nan)"
   ]
  },
  {
   "cell_type": "code",
   "execution_count": null,
   "metadata": {},
   "outputs": [],
   "source": [
    "a"
   ]
  },
  {
   "cell_type": "code",
   "execution_count": null,
   "metadata": {},
   "outputs": [],
   "source": [
    "def aa(a:int, b:int, *args, **kwargs):\n",
    "    # print('1', a,b)\n",
    "    # print('2', args)\n",
    "    # print('3', kwargs)\n",
    "    pass\n",
    "    \n",
    "def bb(a:int, b:int, kwargs):\n",
    "    print(kwargs)\n",
    "    kwargs['a+b'] = a+b+2\n",
    "    print('3', kwargs)\n",
    "    return None\n",
    "    \n",
    "\n",
    "tmp_kwargs = {'1':99}\n",
    "\n",
    "# aa(1,2, tmp_kwargs)\n",
    "_ = bb(1,2, tmp_kwargs)\n",
    "\n",
    "print(tmp_kwargs)"
   ]
  },
  {
   "cell_type": "code",
   "execution_count": null,
   "metadata": {},
   "outputs": [],
   "source": [
    "\n",
    "\n"
   ]
  },
  {
   "cell_type": "code",
   "execution_count": null,
   "metadata": {},
   "outputs": [],
   "source": []
  },
  {
   "cell_type": "markdown",
   "metadata": {},
   "source": [
    "## Compare numba speed with nnz\n",
    "### conclusion: input dense vector, output dense vector"
   ]
  },
  {
   "cell_type": "code",
   "execution_count": null,
   "metadata": {},
   "outputs": [],
   "source": [
    "import numba as nb\n",
    "import numpy as np \n",
    "import time\n",
    "from numba.typed import Dict as nb_dict\n",
    "from numba.core import types\n",
    "import os\n",
    "os.environ[\"NUMBA_CACHE_DIR\"] = \"/tmp\"\n",
    "\n",
    "\n",
    "def test_input_dense_vector_python(p_s: np.ndarray, r_s:np.ndarray, alpha: float, rand_order: np.ndarray):\n",
    "    total = rand_order.shape[0]\n",
    "    for _ in range(total):\n",
    "        i = rand_order[_]\n",
    "        p_s[i] = p_s[i] + p_s[i//2] + alpha* r_s[i]\n",
    "    return p_s, p_s, r_s, r_s\n",
    "\n",
    "@nb.njit(fastmath = True, parallel =True, nogil = True)\n",
    "def test_input_dense_vector_numba(p_s: np.ndarray, r_s:np.ndarray, alpha: float, rand_order: np.ndarray):\n",
    "    total = rand_order.shape[0]\n",
    "    for _ in nb.prange(total):\n",
    "        i = rand_order[_]\n",
    "        p_s[i] = p_s[i] + p_s[i//2] + alpha* r_s[i]\n",
    "    return p_s, p_s, r_s, r_s\n",
    "\n",
    "@nb.njit(fastmath = True, parallel =True, nogil = True)\n",
    "def test_input_dense_vector_numba_inplace(p_s: np.ndarray, r_s:np.ndarray, alpha: float, rand_order: np.ndarray):\n",
    "    total = rand_order.shape[0]\n",
    "    for _ in nb.prange(total):\n",
    "        i = rand_order[_]\n",
    "        p_s[i] = p_s[i] + p_s[i//2] + alpha* r_s[i]\n",
    "    return None, None, None, None\n",
    "\n",
    "\n",
    "@nb.njit(fastmath = True, parallel =True, nogil = True)\n",
    "def test_input_dense_vector_numba_return_nnz_idx(p_s: np.ndarray, r_s:np.ndarray, alpha: float, rand_order: np.ndarray):\n",
    "    total = rand_order.shape[0]\n",
    "    for _ in nb.prange(total):\n",
    "        i = rand_order[_]\n",
    "        p_s[i] = p_s[i] + p_s[i//2] + alpha* r_s[i]\n",
    "    # return sparse\n",
    "    p_s_nnz_idx = np.nonzero(p_s)\n",
    "    # p_s_nnz_val = p_s[p_s_nnz_idx]\n",
    "    r_s_nnz_idx = np.nonzero(r_s)\n",
    "    # r_s_nnz_val = r_s[r_s_nnz_idx]\n",
    "    return p_s_nnz_idx, p_s_nnz_idx, r_s_nnz_idx, r_s_nnz_idx\n",
    "\n",
    "\n",
    "@nb.njit(fastmath = True, parallel =True, nogil = True)\n",
    "def test_input_dense_vector_numba_return_nnz_idx_val(p_s: np.ndarray, r_s:np.ndarray, alpha: float, rand_order: np.ndarray):\n",
    "    total = rand_order.shape[0]\n",
    "    for _ in nb.prange(total):\n",
    "        i = rand_order[_]\n",
    "        p_s[i] = p_s[i] + p_s[i//2] + alpha* r_s[i]\n",
    "    # return sparse\n",
    "    p_s_nnz_idx = np.nonzero(p_s)\n",
    "    p_s_nnz_val = p_s[p_s_nnz_idx]\n",
    "    r_s_nnz_idx = np.nonzero(r_s)\n",
    "    r_s_nnz_val = r_s[r_s_nnz_idx]\n",
    "    return p_s_nnz_idx, p_s_nnz_val, r_s_nnz_idx, r_s_nnz_val\n",
    "\n",
    "\n"
   ]
  },
  {
   "cell_type": "code",
   "execution_count": null,
   "metadata": {},
   "outputs": [],
   "source": [
    "\n",
    "def test_speed(func):\n",
    "    n = 1000000\n",
    "    num_ops = 5000\n",
    "    alpha = 0.2\n",
    "    s = 3\n",
    "    rand_order = np.random.choice(n, num_ops)\n",
    "    repeat_time = 1000\n",
    "    comsumed_time = []\n",
    "    for _ in range(repeat_time):\n",
    "        p_s = np.zeros(n, dtype=float)\n",
    "        r_s = np.ones(n, dtype=float)\n",
    "        # print(f'sum of ps {np.sum(p_s)}')\n",
    "        start = time.perf_counter()\n",
    "        p_s_nnz_idx, p_s_nnz_val, r_s_nnz_idx, r_s_nnz_val = func(p_s, r_s, alpha, rand_order)\n",
    "        comsumed_time.append( time.perf_counter() - start)\n",
    "        # print(f'sum of ps {np.sum(p_s)}')\n",
    "    print(f'Testing: {func.__name__}: n: {n}, num_ops:{num_ops}')\n",
    "    print(f'Speed per iter: {np.mean(comsumed_time)*1000} ms per with std {np.std(comsumed_time *1000)}')\n",
    "\n",
    "test_speed(test_input_dense_vector_python)\n",
    "test_speed(test_input_dense_vector_numba)\n",
    "test_speed(test_input_dense_vector_numba_inplace)\n",
    "test_speed(test_input_dense_vector_numba_return_nnz_idx)\n",
    "test_speed(test_input_dense_vector_numba_return_nnz_idx_val)\n",
    "\n",
    "\n",
    "\"\"\"\n",
    "Testing: test_input_dense_vector_python: n: 1000000, num_ops:5000\n",
    "Speed per iter: 4.179927775170654 ms per with std 0.0002740929690304788\n",
    "Testing: test_input_dense_vector_numba: n: 1000000, num_ops:5000\n",
    "Speed per iter: 0.1503849932923913 ms per with std 1.1700934376113088e-05\n",
    "Testing: test_input_dense_vector_numba_inplace: n: 1000000, num_ops:5000\n",
    "Speed per iter: 0.13864837167784572 ms per with std 2.006728684142806e-05\n",
    "Testing: test_input_dense_vector_numba_return_nnz_idx: n: 1000000, num_ops:5000\n",
    "Speed per iter: 2.5898508434183896 ms per with std 8.440914670536068e-05\n",
    "Testing: test_input_dense_vector_numba_return_nnz_idx_val: n: 1000000, num_ops:5000\n",
    "Speed per iter: 3.821231385692954 ms per with std 0.0002650383047438655\n",
    "\"\"\""
   ]
  },
  {
   "cell_type": "code",
   "execution_count": null,
   "metadata": {},
   "outputs": [],
   "source": [
    "\n",
    "n = 2000\n",
    "dict_p_arr = nb_dict.empty(key_type = types.int32, value_type = types.float32[:])\n",
    "tracked_nodes = np.arange(1,10, dtype=np.int32)\n",
    "print(tracked_nodes)\n",
    "\n",
    "@nb.njit(nogil = True)\n",
    "def test_numba_dict_ndarray(dict_p_arr, tracked_nodes, n):\n",
    "    _ = tracked_nodes.shape[0]\n",
    "    for i in nb.prange(_):\n",
    "        dict_p_arr[i] = np.ones(n, dtype = np.float32)\n",
    "    print(dict_p_arr, tracked_nodes)\n",
    "    \n",
    "print(test_numba_dict_ndarray(dict_p_arr, tracked_nodes, n))\n",
    "print(dict_p_arr)"
   ]
  },
  {
   "cell_type": "code",
   "execution_count": null,
   "metadata": {},
   "outputs": [],
   "source": [
    "\n",
    "# @nb.njit(nogil = True, parallel = True)\n",
    "@nb.njit(nogil = True, parallel = True, fastmath = True)\n",
    "def change_val_multithread(num_ops, total_n, dim, nb_dict):\n",
    "    for i in nb.prange(total_n):\n",
    "        for j in nb.prange(dim):\n",
    "            for _ in range(num_ops): \n",
    "                nb_dict[i][j] = nb_dict[i][j] + nb_dict[i][j//2]\n",
    "\n",
    "def test_multithread():\n",
    "    n = 200\n",
    "    dim = 3000\n",
    "    num_ops = 100\n",
    "    dict_p_arr = nb_dict.empty(key_type = types.int32, value_type = types.float32[:])\n",
    "    for _ in np.arange(n, dtype=np.int32):\n",
    "        dict_p_arr[_] = np.ones( dim,dtype=np.float32)\n",
    "    change_val_multithread(num_ops, n, dim, dict_p_arr)\n",
    "    return dict_p_arr\n",
    "\n",
    "dict_p_arr = test_multithread()"
   ]
  },
  {
   "cell_type": "code",
   "execution_count": null,
   "metadata": {},
   "outputs": [],
   "source": [
    "# @nb.njit(nogil = True, parallel = True, fastmath = True)\n",
    "def set_val_multithread(num_ops, total_n, dim, nb_dict):\n",
    "    for i in nb.prange(total_n):\n",
    "        visit_set = set()\n",
    "        for j in range(dim):\n",
    "            for _ in range(num_ops): \n",
    "                if j not in visit_set:\n",
    "                    visit_set.add(j)\n",
    "                    nb_dict[i][j] = nb_dict[i][j]*1.87 + nb_dict[i][j//2]\n",
    "                    visit_set.add(nb_dict[i][j])\n",
    "\n",
    "def test_set_val_multithread():\n",
    "    n = 200\n",
    "    dim = 3000\n",
    "    num_ops = 100\n",
    "    dict_p_arr = nb_dict.empty(key_type = types.int32, value_type = types.float32[:])\n",
    "    for _ in np.arange(n, dtype=np.int32):\n",
    "        dict_p_arr[_] = np.ones( dim,dtype=np.float32)\n",
    "    set_val_multithread(num_ops, n, dim, dict_p_arr)\n",
    "    return dict_p_arr\n",
    "\n"
   ]
  },
  {
   "cell_type": "code",
   "execution_count": null,
   "metadata": {},
   "outputs": [],
   "source": [
    "dict_p_arr = test_set_val_multithread()\n"
   ]
  },
  {
   "cell_type": "code",
   "execution_count": null,
   "metadata": {},
   "outputs": [],
   "source": [
    "getsizeof(np.ones(1000*6000000, dtype=np.float32))/1024/1024\n",
    "# propagation with sparsity trade off."
   ]
  },
  {
   "cell_type": "code",
   "execution_count": null,
   "metadata": {},
   "outputs": [],
   "source": [
    "np.repeat(1.0 / 5, 5)"
   ]
  },
  {
   "cell_type": "code",
   "execution_count": null,
   "metadata": {},
   "outputs": [],
   "source": [
    "\n",
    "from scipy.sparse import csr_matrix\n",
    "\n",
    "S = csr_matrix([[0, 1], [0, 5]]).sum(axis=1)\n",
    "print(S)\n",
    "S[S!=0] = S[S != 0]"
   ]
  },
  {
   "cell_type": "code",
   "execution_count": null,
   "metadata": {},
   "outputs": [],
   "source": [
    "import numpy as np \n",
    "S = np.array([2.0,0,2.0])\n",
    "S[S != 0] = 1.0 / S[S != 0]\n",
    "print(S)\n",
    "\n",
    "\n"
   ]
  },
  {
   "cell_type": "code",
   "execution_count": null,
   "metadata": {},
   "outputs": [],
   "source": [
    "S = np.array([2,0,2], dtype = np.float32)\n",
    "S[S != 0] = np.array([0.5, 0.5])\n",
    "print(S)"
   ]
  },
  {
   "cell_type": "code",
   "execution_count": null,
   "metadata": {},
   "outputs": [],
   "source": [
    "cut =20\n",
    "a = np.array([230, 10, 284, 39, 76])\n",
    "a[a != cut] = 1.0/(a[a != cut])\n",
    "print(a)"
   ]
  },
  {
   "cell_type": "code",
   "execution_count": null,
   "metadata": {},
   "outputs": [],
   "source": [
    "import matplotlib.pyplot as plt\n",
    "import networkx as nx\n",
    "import json\n",
    "\n",
    "G = nx.karate_club_graph()\n",
    "edge_event = []\n",
    "for t, (u, v) in enumerate(G.edges):\n",
    "    edge_event.append((u, v, 1.0, t))\n",
    "    edge_event.append((v, u, 1.0, t))\n",
    "\n",
    "f_path = '/home/xingzguo/projects_data/DynMixer/karate/raw_data/edge_list.json'\n",
    "with open(f_path, 'w') as f:\n",
    "    f.write('\\n'.join([json.dumps(_) for _ in edge_event]))\n"
   ]
  },
  {
   "cell_type": "code",
   "execution_count": null,
   "metadata": {},
   "outputs": [],
   "source": [
    "class TestA:\n",
    "    def __init__(self) -> None:\n",
    "        self.num = 0\n",
    "    \n",
    "    def update_cb(self, num):\n",
    "        print(self.num, num )\n",
    "        self.num += num\n",
    "        \n",
    "\n",
    "def external_add(num_in, cb_func=None):\n",
    "    if cb_func:\n",
    "        cb_func(num_in)\n",
    "        print(cb_func)\n",
    "\n",
    "\n",
    "tst = TestA()\n",
    "\n",
    "numbs = [1,2,3,4]\n",
    "for num in numbs:\n",
    "    external_add(num, cb_func = tst.update_cb)\n",
    "\n",
    "print(tst.num)"
   ]
  },
  {
   "cell_type": "code",
   "execution_count": null,
   "metadata": {},
   "outputs": [],
   "source": [
    "import numba as nb\n",
    "import numpy as np \n",
    "import time\n",
    "from numba.typed import Dict as nb_dict\n",
    "from numba.core import types\n",
    "import os\n",
    "os.environ[\"NUMBA_CACHE_DIR\"] = \"/tmp\"\n",
    "import networkx as nx\n",
    "\n",
    "def conjugate_gradient(\n",
    "    N: int,\n",
    "    query_list: np.ndarray,\n",
    "    indices: np.ndarray,\n",
    "    indptr: np.ndarray,\n",
    "    data: np.ndarray,\n",
    "    node_degree: np.ndarray,\n",
    "    dict_p_arr: nb_dict,\n",
    "    dict_r_arr: nb_dict,\n",
    "    alpha: float,\n",
    "    beta: float,\n",
    "    init_epsilon: float,\n",
    "):\n",
    "    # check number of nodes.\n",
    "    # the out-degree of nodes\n",
    "    eps_prime = np.float32(init_epsilon / node_degree.sum())\n",
    "    for i in nb.prange(query_list.shape[0]):\n",
    "        # Multi-thread if using numba's nonpython mode. No GIL\n",
    "        # Adaptive push according to p_s\n",
    "        s = query_list[i]\n",
    "        adapt_epsilon = np.float32(\n",
    "            eps_prime * node_degree[s]\n",
    "        )  # for high degree nodes?\n",
    "        adapt_epsilon = np.max(\n",
    "            np.array([adapt_epsilon, 1e-3])\n",
    "        )  # the lower bound\n",
    "        epsilon = np.min(\n",
    "            np.array([adapt_epsilon, 1e-3])\n",
    "        )  # the upper bound\n",
    "        \n",
    "        \n",
    "        #p_s is the init vector\n",
    "        m = data.shape[0]\n",
    "        lap_mat: np.ndarray = np.zeros(m, dtype = np.float32)\n",
    "        p_s: np.ndarray = dict_p_arr[s]\n",
    "        r:np.ndarray = np.zeros(N, dtype = np.float32)\n",
    "        p:np.ndarray = np.zeros(N, dtype = np.float32)\n",
    "        gpr_vec = p_s\n",
    "        mat_x_vec = np.zeros(N, dtype = np.int32)\n",
    "        p_vec = np.zeros(N, dtype = np.float32)\n",
    "        p_vec[s] = 1.0\n",
    "        for uu in range(N):\n",
    "            for index in range(indptr[uu], indptr[uu + 1]):\n",
    "                lap_mat[index] = alpha / (np.sqrt(node_degree[uu]) * np.sqrt(node_degree[indices[index]]))\n",
    "                mat_x_vec[uu] += lap_mat[index] * gpr_vec[indices[index]]\n",
    "        rs_old:np.float32 = 0.0\n",
    "        for uu in range(N):\n",
    "            r[uu] = (1. - alpha) * p_vec[uu] / np.sqrt(node_degree[uu] - gpr_vec[uu] + mat_x_vec[uu])\n",
    "            p[uu] = r[uu]\n",
    "            rs_old += r[uu] * r[uu]\n",
    "            \n",
    "        max_iter = 1000\n",
    "        for epoch in range(max_iter):\n",
    "            mat_x_vec = p.copy()\n",
    "            for uu in range(N):\n",
    "                alpha_sum = 0.0\n",
    "                for index in range(indptr[uu], indptr[uu + 1]):\n",
    "                    alpha_sum += lap_mat[index] * p[indices[index]]\n",
    "                mat_x_vec[uu] -= alpha_sum;\n",
    "            alpha_sum = 0.0\n",
    "            for uu in range(N):\n",
    "                alpha_sum += mat_x_vec[uu] * p[uu]\n",
    "            alpha_sum = rs_old / alpha_sum\n",
    "            rs_new = 0.0\n",
    "            for uu in range(N):\n",
    "                gpr_vec[uu] += alpha_sum * p[uu];\n",
    "                r[uu] -= alpha_sum * mat_x_vec[uu];\n",
    "                rs_new += r[uu] * r[uu];\n",
    "            \n",
    "            if np.sqrt(rs_new) < epsilon:\n",
    "                break\n",
    "            for uu in range(N):\n",
    "                p[uu] = r[uu] + (rs_new / rs_old) * p[uu]\n",
    "            rs_old = rs_new\n",
    "        \n",
    "        for uu in range(N):\n",
    "            gpr_vec[uu] *= np.sqrt(node_degree[uu])\n",
    "            \n",
    "        "
   ]
  },
  {
   "cell_type": "code",
   "execution_count": null,
   "metadata": {},
   "outputs": [],
   "source": [
    "import numba as nb\n",
    "import numpy as np \n",
    "import time\n",
    "from numba.typed import Dict as nb_dict\n",
    "from numba.core import types\n",
    "import os\n",
    "os.environ[\"NUMBA_CACHE_DIR\"] = \"/tmp\"\n",
    "import networkx as nx\n",
    "\n",
    "import scipy.sparse as sp\n",
    "\n",
    "\n",
    "def ppr_ista(\n",
    "    N: int,\n",
    "    query_list: np.ndarray,\n",
    "    indices: np.ndarray,\n",
    "    indptr: np.ndarray,\n",
    "    data: np.ndarray,\n",
    "    node_degree: np.ndarray,\n",
    "    alpha_norm: float,\n",
    "    rho:float,\n",
    "    max_iter:int = 1000\n",
    "):\n",
    "    # lazy walk is equivalent to random walk with adjusted alpha.\n",
    "    alpha = alpha_norm/(2.0-alpha_norm) \n",
    "    A = sp.csr_matrix((data, indices, indptr), shape = (N,N))\n",
    "    d_mat = sp.diags(node_degree, dtype = np.float32)\n",
    "    sqrt_d_out = np.sqrt(node_degree)\n",
    "    nsqrt_d_out = 1.0/sqrt_d_out\n",
    "    nsqrt_d_out_mat = sp.diags(nsqrt_d_out, dtype = np.float32)\n",
    "    # Q = 0.5*(1+alpha)*(sp.identity(N, dtype = np.float32) - \\\n",
    "    #     nsqrt_d_out_mat@ A @nsqr8t_d_out_mat)\n",
    "    Q = nsqrt_d_out_mat @(d_mat - 0.5*(1-alpha) *(d_mat + A)) @ nsqrt_d_out_mat\n",
    "    cond_vec = rho*alpha* (sqrt_d_out)\n",
    "    \n",
    "    for s_id in query_list:\n",
    "        q = np.zeros(N, dtype=np.float32)\n",
    "        grad_f = np.zeros(N, dtype=np.float32)\n",
    "        grad_f[s_id] = -alpha* (nsqrt_d_out[s_id])\n",
    "        \n",
    "        Cc = np.zeros(N, dtype = np.float32)\n",
    "        Cc[s_id] = alpha*nsqrt_d_out[s_id]\n",
    "\n",
    "        for k in range(max_iter):\n",
    "            for i in range(N):\n",
    "                if q[i] - grad_f[i] >= cond_vec[i]:\n",
    "                    q[i] = q[i] - (grad_f[i] + cond_vec[i])\n",
    "                elif q[i] - grad_f[i] <= -cond_vec[i]:\n",
    "                    q[i] = q[i] - (grad_f[i] - cond_vec[i])\n",
    "                else:\n",
    "                    q[i] = 0.0\n",
    "            # get gradient. Qq - alpha*nsqrt_d*e_i\n",
    "            \n",
    "            # for u in range(N):\n",
    "            #     Qv = Q.indices[Q.indptr[u] : Q.indptr[u + 1]]\n",
    "            #     Qw = Q.data[Q.indptr[u] : Q.indptr[u + 1]]\n",
    "            #     for i in range(Qv.shape[0]):\n",
    "            #         _v = Qv[i]\n",
    "            #         _Q_u_v = Qw[i]\n",
    "            #         Qq[u] += _Q_u_v * q[_v]\n",
    "            grad_f = Q@q - Cc\n",
    "            \n",
    "        ppv = np.zeros(N, dtype = np.float32) \n",
    "        for i in range(N):\n",
    "            ppv[i] = sqrt_d_out[i]*q[i]\n",
    "        print(ppv)\n",
    "            \n",
    "\n",
    "G = nx.karate_club_graph()\n",
    "csr_graph = nx.to_scipy_sparse_matrix(G.to_undirected())\n",
    "node_degree = np.squeeze(np.array(csr_graph.sum(axis = 1))).astype(np.float32)\n",
    "ppr_ista(\n",
    "    csr_graph.shape[0],\n",
    "    np.array([0,1,2]),\n",
    "    csr_graph.indices,\n",
    "    csr_graph.indptr,\n",
    "    csr_graph.data,\n",
    "    node_degree,\n",
    "    alpha_norm=0.2, \n",
    "    rho = 1e-5,\n",
    "    max_iter = 100\n",
    ")\n"
   ]
  },
  {
   "cell_type": "code",
   "execution_count": null,
   "metadata": {},
   "outputs": [],
   "source": [
    "import matplotlib.pyplot as plt\n",
    "import networkx as nx\n",
    "import json\n",
    "\n",
    "G = nx.karate_club_graph()\n",
    "csr_graph = nx.to_scipy_sparse_matrix(G.to_undirected())\n",
    "from networkx.algorithms.link_analysis.pagerank_alg import pagerank_scipy\n",
    "\n",
    "for s_id in np.array([0,1,2]):\n",
    "    p_dict = pagerank_scipy(\n",
    "        G.to_undirected(),\n",
    "        alpha=0.8, #damping\n",
    "        personalization={s_id:1},\n",
    "        max_iter=1000,\n",
    "        tol=1.0e-6,\n",
    "        nstart=None,\n",
    "        weight=None,\n",
    "        dangling=None,\n",
    "    )\n",
    "\n",
    "    ppr_val = np.array([ p_dict[_] for _ in list(G)])\n",
    "    print(s_id, ppr_val)\n"
   ]
  },
  {
   "cell_type": "code",
   "execution_count": null,
   "metadata": {},
   "outputs": [],
   "source": []
  },
  {
   "cell_type": "markdown",
   "metadata": {},
   "source": [
    "# dataset generator"
   ]
  },
  {
   "cell_type": "code",
   "execution_count": null,
   "metadata": {},
   "outputs": [],
   "source": [
    "from os.path import join as os_join\n",
    "import torch_geometric.transforms as T\n",
    "import torch_geometric\n",
    "import numpy as np\n",
    "\n",
    "\n",
    "project_data_folder = '/home/xingzguo/projects_data/DynMixer'\n",
    "dataset_name = 'citeseer'\n",
    "dataset_path = os_join(project_data_folder, dataset_name)\n",
    "if os.path.exists(dataset_path) is not True:\n",
    "    os.makedirs(dataset_path)\n",
    "\n",
    "dataset = torch_geometric.datasets.Planetoid(\n",
    "    dataset_path, name=dataset_name, transform=T.NormalizeFeatures()\n",
    ")\n",
    "\n",
    "# E = dataset[0].edge_index.numpy().astype(np.int32)\n",
    "# N = dataset[0].x.shape[0]\n",
    "# csr_mat = csr_matrix(\n",
    "#     (np.ones_like(E[0]).astype(np.int32), (E[0], E[1])), shape=(N, N)\n",
    "# )\n",
    "\n",
    "# give out raw features\n",
    "# give out...\n"
   ]
  },
  {
   "cell_type": "code",
   "execution_count": null,
   "metadata": {},
   "outputs": [],
   "source": [
    "E = dataset[0].edge_index.numpy().astype(np.int32)\n",
    "X = dataset[0].x.numpy()\n",
    "print(np.unique(dataset[0].y))\n",
    "print(np.unique(E.flatten()).shape)\n",
    "print(X.shape)\n",
    "print(E.shape)\n",
    "\n"
   ]
  },
  {
   "cell_type": "code",
   "execution_count": null,
   "metadata": {},
   "outputs": [],
   "source": [
    "import numba as nb\n",
    "\n",
    "nb.__version__"
   ]
  },
  {
   "cell_type": "code",
   "execution_count": null,
   "metadata": {},
   "outputs": [],
   "source": [
    "from typing import Dict, Tuple\n",
    "structure_events_dict: Dict[\n",
    "    Tuple[int, int],\n",
    "    Tuple[int, int]\n",
    "] = {}\n"
   ]
  },
  {
   "cell_type": "code",
   "execution_count": null,
   "metadata": {},
   "outputs": [],
   "source": [
    "a_list = [\"a\", \"b\", \"c\"] \n",
    "for i, v in enumerate(a_list):\n",
    "    print(i,v)"
   ]
  },
  {
   "cell_type": "code",
   "execution_count": null,
   "metadata": {},
   "outputs": [],
   "source": [
    "import numpy as np \n",
    "a = np.array([[0.1,0.2,0.3], [0.9,0.12,0.343]])\n",
    "b = np.array([[0.12,0.235,0.332], [0.952,0.1322,0.34243]])\n",
    "\n",
    "a2 = np.array([[0.1,0.2212,0.253], [0.87,0.1432,0.3433]])\n",
    "b2 = np.array([[0.12,0.24335,0.332], [0.952,0.13222,0.34243]])\n",
    "\n",
    "l1_list  = np.array([np.sum(a-b, axis = 1), np.sum(a2-b2, axis = 1)])\n",
    "l1_list"
   ]
  },
  {
   "cell_type": "code",
   "execution_count": null,
   "metadata": {},
   "outputs": [],
   "source": [
    "l1_list.mean(axis = 0)"
   ]
  },
  {
   "cell_type": "code",
   "execution_count": null,
   "metadata": {},
   "outputs": [],
   "source": []
  },
  {
   "cell_type": "markdown",
   "metadata": {},
   "source": [
    "# sparse matrix multiplication"
   ]
  },
  {
   "cell_type": "code",
   "execution_count": null,
   "metadata": {},
   "outputs": [],
   "source": [
    "import torch\n",
    "from sklearn.utils import murmurhash3_32 as murmurhash\n"
   ]
  },
  {
   "cell_type": "code",
   "execution_count": null,
   "metadata": {},
   "outputs": [],
   "source": [
    "a = 2\n",
    "a =+ 3\n",
    "a\n",
    "# feat_mat = torch.randint(0,100,(5,100)).shape"
   ]
  },
  {
   "cell_type": "code",
   "execution_count": null,
   "metadata": {},
   "outputs": [],
   "source": [
    "from sklearn.utils import murmurhash3_32 as murmurhash\n",
    "import numba \n",
    "def get_hash_LUT(n:int,dim:int = 512,rnd_seed:int = 0 ):\n",
    "    node_id_2_dim_id = np.zeros(n,dtype=np.int32)\n",
    "    node_id_2_sign = np.zeros(n,dtype=np.int8)\n",
    "    for _ in range(n):\n",
    "        dim_id = murmurhash(_, seed = rnd_seed,positive=True)%dim\n",
    "        sign = murmurhash(_, seed = rnd_seed,positive=True)%2\n",
    "        node_id_2_dim_id[_] = dim_id\n",
    "        node_id_2_sign[_] = 1 if sign == 1 else -1\n",
    "    return node_id_2_dim_id, node_id_2_sign\n",
    "\n",
    "@numba.njit(cache =False, parallel = True, fastmath=True, nogil = True)\n",
    "def get_hash_embed(node_id_2_dim_id, node_id_2_sign, dim, n, indices, indptr, data):\n",
    "    emb_mat = np.zeros((n,dim), dtype=np.float32)\n",
    "    for i in numba.prange(n): # for all nodes.\n",
    "        cols = indices[indptr[i]:indptr[i + 1]]\n",
    "        vals = data[indptr[i]:indptr[i + 1]]\n",
    "        emb_vec = emb_mat[i,:]\n",
    "        for j, val in zip(cols,vals):\n",
    "            emb_vec[node_id_2_dim_id[j]] += node_id_2_sign[j]* np.max( np.array([np.float32(0.0), np.float32(np.log(val*n))]) )\n",
    "    return emb_mat\n",
    "\n",
    "node_id_2_dim_id, node_id_2_sign = get_hash_LUT(n=30000)\n"
   ]
  },
  {
   "cell_type": "code",
   "execution_count": null,
   "metadata": {},
   "outputs": [],
   "source": [
    "node_id_2_dim_id"
   ]
  },
  {
   "cell_type": "code",
   "execution_count": null,
   "metadata": {},
   "outputs": [],
   "source": [
    "node_id_2_sign"
   ]
  },
  {
   "cell_type": "code",
   "execution_count": null,
   "metadata": {},
   "outputs": [],
   "source": [
    "np.random.random((4,4)).astype(np.float32)"
   ]
  },
  {
   "cell_type": "code",
   "execution_count": null,
   "metadata": {},
   "outputs": [],
   "source": [
    "import torch\n",
    "import numpy as np\n",
    "import scipy.sparse as sp\n",
    "crow_indices = torch.tensor([0, 2, 4])\n",
    "col_indices = torch.tensor([0, 1, 0, 1])\n",
    "values = torch.tensor([1, 2, 3, 4])\n",
    "csr = torch.sparse_csr_tensor(crow_indices, col_indices, values, dtype=torch.float64)\n",
    "csr.to_dense()"
   ]
  },
  {
   "cell_type": "code",
   "execution_count": null,
   "metadata": {},
   "outputs": [],
   "source": [
    "indices= np.array([0, 1, 0, 1]) # \n",
    "indptr = np.array([0, 2, 4]) # idx is row.\n",
    "data = np.array([1, 2, 3, 4])\n",
    "\n",
    "csr_mat = sp.csr_matrix((data, indices, indptr), shape = (2,2))\n",
    "csr_mat.todense()"
   ]
  },
  {
   "cell_type": "code",
   "execution_count": null,
   "metadata": {},
   "outputs": [],
   "source": [
    "import numpy as np\n",
    "\n",
    "x = np.random.random((4,5))\n",
    "row_sum = x.sum(axis = 1).reshape(-1,1)"
   ]
  },
  {
   "cell_type": "code",
   "execution_count": null,
   "metadata": {},
   "outputs": [],
   "source": [
    "x/row_sum"
   ]
  },
  {
   "cell_type": "code",
   "execution_count": null,
   "metadata": {},
   "outputs": [],
   "source": [
    "x.shape"
   ]
  },
  {
   "cell_type": "code",
   "execution_count": null,
   "metadata": {},
   "outputs": [],
   "source": [
    "import torch\n",
    "from torch_scatter import scatter_max, scatter_add, segment_csr\n",
    "\n",
    "src = torch.tensor([[1,1,1,1], [0.5,2,2,2], [2,3,3,3]])\n",
    "indptr = torch.tensor([0, 2, 2])\n",
    "# indptr = indptr.view(1, -1)  \n",
    "\n",
    "segment_csr(src, indptr, reduce=\"mean\")\n",
    "\n"
   ]
  },
  {
   "attachments": {},
   "cell_type": "markdown",
   "metadata": {},
   "source": [
    "## Speed benchmark\n",
    "- scipy-sparse vs torch-sparse\n",
    "- nnz of ppv is kept same regardless of graph size.\n",
    "- **conclusion:**: torch.sparse.mm is 3-4x faster than scipy.sparse"
   ]
  },
  {
   "cell_type": "code",
   "execution_count": null,
   "metadata": {},
   "outputs": [],
   "source": [
    "import pandas as pd\n",
    "df_speed_benchmark = pd.read_json('../src/Mixer/benchmark_stats/df_speed_benchmark.json')\n",
    "# df_speed_benchmark[df_speed_benchmark['use_torch_sparse'] == True]\n",
    "table = pd.pivot_table( df_speed_benchmark, values = ['time_mean', 'time_std','nnz_mean'], index=['total_num_nodes', 'aggregate_type', 'use_torch_sparse',], )\n",
    "table"
   ]
  },
  {
   "cell_type": "code",
   "execution_count": null,
   "metadata": {},
   "outputs": [],
   "source": [
    "import torch\n",
    "import numpy as np\n",
    "import scipy.sparse as sp\n",
    "\n",
    "nnz_lb_node_ids = np.array([0,1,2,3,5])\n",
    "nnz_lb = np.array([1,2,3,4,5])\n",
    "pairs = np.vstack((nnz_lb_node_ids, nnz_lb))\n",
    "outd = np.array([0,1,2,3,4,0,1,2])\n",
    "nnz_lb_node_outd = outd[nnz_lb_node_ids]\n",
    "non_dangling_mask = nnz_lb_node_outd>0\n",
    "\n"
   ]
  },
  {
   "cell_type": "code",
   "execution_count": null,
   "metadata": {},
   "outputs": [],
   "source": [
    "nnz_lb_node_outd"
   ]
  },
  {
   "cell_type": "code",
   "execution_count": null,
   "metadata": {},
   "outputs": [],
   "source": [
    "non_dangling_mask"
   ]
  },
  {
   "cell_type": "code",
   "execution_count": null,
   "metadata": {},
   "outputs": [],
   "source": [
    "pairs[:,non_dangling_mask]"
   ]
  },
  {
   "cell_type": "code",
   "execution_count": null,
   "metadata": {},
   "outputs": [],
   "source": [
    "import torch \n",
    "import scipy.sparse as sp\n",
    "\n",
    "crow_indices = torch.tensor([0, 2, 4])\n",
    "col_indices = torch.tensor([0, 1, 0, 1])\n",
    "values = torch.tensor([1, 2, 3, 4])\n",
    "\n",
    "csr = torch.sparse_csr_tensor(crow_indices, col_indices, values, dtype=torch.float64)\n",
    "print(csr.to_dense())\n",
    "torch.topk(csr.to_dense(), 1)"
   ]
  },
  {
   "cell_type": "code",
   "execution_count": null,
   "metadata": {},
   "outputs": [],
   "source": [
    "import numpy as np\n",
    "\n",
    "# input\n",
    "a=np.array([[1,2,3,4],[8,7,6,5],[5,3,1,2]])\n",
    "top_k = 8\n",
    "if top_k>a.shape[1]:\n",
    "    top_k = a.shape[1]\n",
    "    \n",
    "mask = np.argpartition(a, -top_k, axis=1) < a.shape[1] - top_k\n",
    "a[mask] = 0\n",
    "\n",
    "a"
   ]
  },
  {
   "cell_type": "code",
   "execution_count": null,
   "metadata": {},
   "outputs": [],
   "source": [
    "S = np.array([1,2,3,0,0,0])\n",
    "assert S[S == 0.0].shape[0] == 0, \"graph has dangling nodes\""
   ]
  },
  {
   "cell_type": "code",
   "execution_count": null,
   "metadata": {},
   "outputs": [],
   "source": []
  },
  {
   "cell_type": "code",
   "execution_count": null,
   "metadata": {},
   "outputs": [],
   "source": [
    "import numpy as np \n",
    "\n",
    "\n",
    "def topk_norm(max_top_k: int, matrix_input: np.ndarray, ord_norm: int = 1):\n",
    "    \"\"\"take top-k element per row and re-normalize row-wise as per the\n",
    "    ord (e.g., l-1 norm)\n",
    "\n",
    "    \"\"\"\n",
    "\n",
    "    out_mat = np.zeros_like(matrix_input)\n",
    "\n",
    "    m = out_mat.shape[1]\n",
    "    if max_top_k > m:\n",
    "        max_top_k = m\n",
    "    sort_k = m - max_top_k\n",
    "    # mask lowest vals per row\n",
    "    large_idx = np.argpartition(matrix_input, sort_k, axis=1)[:, sort_k:]\n",
    "    row_idx = np.arange(matrix_input.shape[0]).reshape(-1, 1)\n",
    "    out_mat[row_idx, large_idx] = matrix_input[row_idx, large_idx]\n",
    "    l1_norm = np.linalg.norm(out_mat, axis=1, keepdims=True, ord=ord_norm)\n",
    "\n",
    "    return (out_mat / l1_norm).astype(np.float32)\n",
    "\n",
    "\n",
    "# matrix= np.array([[1.7747078e-06, 2.8687605e-04, 5.9040769e-05, 0.00, ], [1.77078e-06 ,2.887605e-04 ,5.90769e-05, 0.00]])\n",
    "matrix= np.array([[1.7747078e-06, 0.0, 5.9040769e-05, 0.00, ], [0.0 ,2.887605e-04 ,5.90769e-05, 0.00]])\n",
    "\n",
    "print(matrix)\n",
    "topk_norm(3, matrix)\n",
    "\n"
   ]
  },
  {
   "cell_type": "code",
   "execution_count": null,
   "metadata": {},
   "outputs": [],
   "source": [
    "def bottomk_norm(btm_k: int, matrix_input: np.ndarray, ord_norm: int = 1):\n",
    "    \"\"\"take top-k element per row and re-normalize row-wise as per the\n",
    "    ord (e.g., l-1 norm)\n",
    "    ignore zero entries\n",
    "\n",
    "    \"\"\"\n",
    "    out_mat = np.zeros_like(matrix_input)\n",
    "    matrix_input = np.array(matrix_input, copy=True)\n",
    "    matrix_input[matrix_input == 0.0] = np.Inf\n",
    "\n",
    "    m = out_mat.shape[1]\n",
    "    if btm_k > m:\n",
    "        btm_k = m\n",
    "        \n",
    "    sort_k = btm_k# m - btm_k\n",
    "    print(sort_k)\n",
    "    # mask lowest vals per row\n",
    "    small_idx = np.argpartition(matrix_input, sort_k, axis=1)[:, :sort_k]\n",
    "    print(small_idx)\n",
    "    row_idx = np.arange(matrix_input.shape[0]).reshape(-1, 1)\n",
    "    out_mat[row_idx, small_idx] = matrix_input[row_idx, small_idx]\n",
    "    # in-case of nnz is smaller than requested btm-k\n",
    "    out_mat[out_mat == np.Inf] = 0.0 \n",
    "    l1_norm = np.linalg.norm(out_mat, axis=1, keepdims=True, ord=ord_norm)\n",
    "\n",
    "    return (out_mat / l1_norm).astype(np.float32)\n",
    "\n",
    "\n",
    "matrix= np.array([[1.7747078e-06, 0.0, 5.9040769e-05, 0.00, ], [1.77078e-06 ,0.0 ,5.90769e-05, 0.00]])\n",
    "print(matrix)\n",
    "\n",
    "bottomk_norm(3, matrix)\n",
    "\n"
   ]
  },
  {
   "cell_type": "code",
   "execution_count": null,
   "metadata": {},
   "outputs": [],
   "source": [
    "import numba as nb\n",
    "\n",
    "# @nb.jit\n",
    "def randomk_norm(\n",
    "    rnd_k: int,\n",
    "    matrix_input: np.ndarray,\n",
    "    ord_norm: int = 1,\n",
    ") -> torch.tensor:\n",
    "    \"\"\"take random-k element per row and re-normalize row-wise as per the\n",
    "    ord (e.g., l-1 norm)\n",
    "    ignore zero entries\n",
    "\n",
    "    \"\"\"\n",
    "    out_mat = np.zeros_like(matrix_input)\n",
    "    matrix_input = np.array(matrix_input, copy=True)\n",
    "\n",
    "    m = out_mat.shape[1]\n",
    "    if rnd_k > m:\n",
    "        rnd_k = m\n",
    "\n",
    "    # random sample nnzs\n",
    "    random_nnz_idx = np.zeros((matrix_input.shape[0], rnd_k), dtype = int)\n",
    "    for i in range(matrix_input.shape[0]):\n",
    "        nnz_idx = np.nonzero(matrix_input[i])[0]\n",
    "        if nnz_idx.shape[0] == rnd_k:\n",
    "            for j in range(nnz_idx.shape[0]):\n",
    "                random_nnz_idx[i,j] = nnz_idx[j]\n",
    "        elif nnz_idx.shape[0] > rnd_k:\n",
    "            random_nnz_idx[i] = np.random.choice(nnz_idx, size=rnd_k, replace=False)\n",
    "        else:\n",
    "            random_nnz_idx[i] = np.random.choice(nnz_idx, size=rnd_k, replace=True)\n",
    "\n",
    "    row_idx = np.arange(matrix_input.shape[0]).reshape(-1, 1)\n",
    "    out_mat[row_idx, random_nnz_idx] = matrix_input[row_idx, random_nnz_idx]\n",
    "\n",
    "    l1_norm = np.linalg.norm(out_mat, axis=1, keepdims=True, ord=ord_norm)\n",
    "    out_norm_mat = (out_mat / l1_norm).astype(np.float32)\n",
    "    out_norm_mat = torch.tensor(out_norm_mat, dtype=torch.float32)\n",
    "    return out_norm_mat\n",
    "\n",
    "matrix= np.array([[1.7747078e-06, 0.982, 5.9040769e-05, 0.00, ], [1.77078e-06 ,0.0 ,5.90769e-05, 0.00]])\n",
    "print(matrix)\n",
    "randomk_norm(2, matrix)\n",
    "\n"
   ]
  },
  {
   "cell_type": "code",
   "execution_count": null,
   "metadata": {},
   "outputs": [],
   "source": [
    "matrix= np.array([[1.7747078e-06, 0.0, 5.9040769e-05, 0.00, ], [1.77078e-06 ,0.0 ,5.90769e-05, 0.00]])\n",
    "\n",
    "np.nonzero(matrix[0])[0]"
   ]
  },
  {
   "cell_type": "code",
   "execution_count": null,
   "metadata": {},
   "outputs": [],
   "source": [
    "from ogb.nodeproppred import NodePropPredDataset\n",
    "from os.path import join as os_join\n",
    "graph_dataset_name = 'ogbn-products'\n",
    "local_dataset_dir_abs_path = '/home/xingzguo/projects_data/DynMixer/'\n",
    "\n",
    "ogbn_root = os_join(local_dataset_dir_abs_path, 'ogbn_datasets')\n",
    "dataset = NodePropPredDataset(name = graph_dataset_name, root=ogbn_root,)\n",
    "# split_idx = dataset.get_idx_split()\n",
    "# train_idx, valid_idx, test_idx = split_idx[\"train\"], split_idx[\"valid\"], split_idx[\"test\"]\n",
    "graph, label = dataset[0] # graph: library-agnostic graph object\n"
   ]
  },
  {
   "cell_type": "code",
   "execution_count": null,
   "metadata": {},
   "outputs": [],
   "source": [
    "# node_feat\n",
    "\n",
    "graph, label = dataset[0]"
   ]
  },
  {
   "cell_type": "code",
   "execution_count": null,
   "metadata": {},
   "outputs": [],
   "source": [
    "graph['node_feat'].shape"
   ]
  },
  {
   "cell_type": "code",
   "execution_count": null,
   "metadata": {},
   "outputs": [],
   "source": [
    "print(graph['num_nodes'])\n",
    "print(graph['edge_index'].min(), graph['edge_index'].max())"
   ]
  },
  {
   "cell_type": "code",
   "execution_count": null,
   "metadata": {},
   "outputs": [],
   "source": [
    "graph['edge_index'].astype(int).shape[1]"
   ]
  },
  {
   "cell_type": "code",
   "execution_count": null,
   "metadata": {},
   "outputs": [],
   "source": [
    "graph['node_feat'].shape"
   ]
  },
  {
   "cell_type": "code",
   "execution_count": null,
   "metadata": {},
   "outputs": [],
   "source": [
    "import numpy as np\n",
    "np.unique(label).shape[0]"
   ]
  },
  {
   "cell_type": "code",
   "execution_count": null,
   "metadata": {},
   "outputs": [],
   "source": [
    "import numpy as np\n",
    "\n",
    "a = [(1,2,), (5,3), (4,5), (3,7)]\n",
    "sorted(a, key =lambda x: x[0])\n"
   ]
  },
  {
   "cell_type": "code",
   "execution_count": null,
   "metadata": {},
   "outputs": [],
   "source": [
    "a = [(1,2,), (5,3), (4,5), (3,7)]\n",
    "a.sort(key =lambda x: x[0])\n",
    "a"
   ]
  },
  {
   "cell_type": "code",
   "execution_count": null,
   "metadata": {},
   "outputs": [],
   "source": [
    "graph_curt_all_nodes_lbs = np.array([[1,0,0],[0,1,1],[0,0,1]])\n",
    "np.nonzero(graph_curt_all_nodes_lbs[[0,1,2],:])[1]"
   ]
  },
  {
   "cell_type": "code",
   "execution_count": null,
   "metadata": {},
   "outputs": [],
   "source": [
    "import numpy as np\n",
    "import torch\n",
    "\n",
    "node_num_sample_per_lb = 1000\n",
    "train_per_lb = 0.98\n",
    "np.ceil(\n",
    "        node_num_sample_per_lb * train_per_lb, \n",
    "        ).astype(int)\n"
   ]
  },
  {
   "cell_type": "code",
   "execution_count": null,
   "metadata": {},
   "outputs": [],
   "source": [
    "seed = 10\n",
    "np.random.seed(seed)\n",
    "torch.manual_seed(seed)\n",
    "np.random.random((2,2))"
   ]
  },
  {
   "cell_type": "code",
   "execution_count": null,
   "metadata": {},
   "outputs": [],
   "source": [
    "seed = 10\n",
    "np.random.seed(seed)\n",
    "torch.manual_seed(seed)\n",
    "np.random.random((2,2))\n"
   ]
  },
  {
   "cell_type": "code",
   "execution_count": null,
   "metadata": {},
   "outputs": [],
   "source": [
    "np.random.random((2,2))"
   ]
  },
  {
   "cell_type": "code",
   "execution_count": null,
   "metadata": {},
   "outputs": [],
   "source": [
    "np.random.random((2,2))"
   ]
  },
  {
   "cell_type": "code",
   "execution_count": null,
   "metadata": {},
   "outputs": [],
   "source": [
    "seed = 10\n",
    "np.random.seed(seed)\n",
    "torch.manual_seed(seed)\n",
    "np.random.random((2,2))\n"
   ]
  },
  {
   "cell_type": "code",
   "execution_count": null,
   "metadata": {},
   "outputs": [],
   "source": [
    "import hashlib\n",
    "args_js = 'asdf2'\n",
    "aa = hashlib.md5(args_js.encode(\"utf-8\")).hexdigest()\n",
    "aa+'.pkl'\n",
    "# os.path.join(aa,'')"
   ]
  },
  {
   "cell_type": "code",
   "execution_count": null,
   "metadata": {},
   "outputs": [],
   "source": [
    "import torch \n",
    "torch.normal(0, 0.1, size = (3,5))"
   ]
  },
  {
   "cell_type": "code",
   "execution_count": null,
   "metadata": {},
   "outputs": [],
   "source": [
    "import json\n",
    "import hashlib\n",
    "def test_func(**kwargs):\n",
    "    k = [        \n",
    "         \"alpha\",\n",
    "        \"data_strategy\",\n",
    "        \"graph_dataset_name\",\n",
    "        \"graph_snapshot_basetime\",\n",
    "        \"graph_snapshot_interval\",\n",
    "        \"is_dangling_avoid\",\n",
    "        \"ppr_algo\",\n",
    "        \"rs\",\n",
    "        \"dev_per_lb\",\n",
    "        \"test_per_lb\",\n",
    "        \"total_sampled_node\",\n",
    "        \"train_per_lb\",\n",
    "        \"use_incrmt_ppr\",]\n",
    "    hash_dict = {}\n",
    "    for key in k:\n",
    "        print(kwargs[key])\n",
    "        hash_dict[key] = kwargs[key]\n",
    "    args_js = json.dumps({**hash_dict}, sort_keys=True, default=str)\n",
    "    print(args_js)\n",
    "    hash_file = hashlib.md5(args_js.encode(\"utf-8\")).hexdigest()\n",
    "    print(hash_file)\n",
    "\n",
    "test_func(aggregate_type='mixrank', alpha=0.15, data_strategy='fix-all', dev_per_lb=0.1, exp_name='chameleon-debug-1', graph_dataset_name='squirrel', graph_snapshot_basetime=150000.0, graph_snapshot_interval=15000.0, hidden_size_mlps=[32, 16], is_dangling_avoid=True, is_retrain_each_snapshot=True, local_proj_cache_dir='/home/xingzguo/git_project/DynMixer/cache', local_proj_data_dir='/home/xingzguo/projects_data/DynMixer', min_epoch_train=5, model_max_train_epochs=1000, n_cpu=4, num_mlps=2, optim_lr=0.05, ppe_out_dim=128, ppr_algo='ista', pprgo_topk=32, rs=621, test_per_lb=0.2, total_sampled_node=2000.0, train_per_lb=0.7, use_cuda=True, use_incrmt_ppr=True, use_torch_sparse=True, use_verbose=True)"
   ]
  },
  {
   "cell_type": "code",
   "execution_count": null,
   "metadata": {},
   "outputs": [],
   "source": [
    "test_func(aggregate_type='mlp', alpha=0.15, data_strategy='fix-all', dev_per_lb=0.1, exp_name='chameleon-debug-1', graph_dataset_name='squirrel', graph_snapshot_basetime=150000.0, graph_snapshot_interval=15000.0, hidden_size_mlps=[32, 16], is_dangling_avoid=True, is_retrain_each_snapshot=True, local_proj_cache_dir='/home/xingzguo/git_project/DynMixer/cache', local_proj_data_dir='/home/xingzguo/projects_data/DynMixer', min_epoch_train=5, model_max_train_epochs=1000, n_cpu=4, num_mlps=2, optim_lr=0.05, ppe_out_dim=128, ppr_algo='ista', pprgo_topk=32, rs=621, test_per_lb=0.2, total_sampled_node=2000.0, train_per_lb=0.7, use_cuda=True, use_incrmt_ppr=False, use_torch_sparse=True, use_verbose=True)"
   ]
  },
  {
   "cell_type": "code",
   "execution_count": null,
   "metadata": {},
   "outputs": [],
   "source": [
    "\n",
    "import torch\n",
    "import functorch\n",
    "\n",
    "t = torch.tensor([[1., 1], [2., 3.]])\n",
    "print(t)\n",
    "t_sp = t.to_sparse()\n",
    "torch.sparse.softmax(t_sp, dim=1)\n",
    "\n",
    "\n",
    "def poly_func(x, poly_coefs):\n",
    "    out = torch.zeros_like(x)\n",
    "    for k in range(poly_coefs.shape[0]):\n",
    "        out += (x**k) * (poly_coefs[k])\n",
    "    return out\n",
    "\n",
    "poly_func(\n",
    "    torch.tensor([2.0, 0.0]), \n",
    "    torch.tensor([1.0, 1.0, 1.0]) )"
   ]
  },
  {
   "cell_type": "code",
   "execution_count": null,
   "metadata": {},
   "outputs": [],
   "source": [
    "from torch.autograd import Variable\n",
    "\n",
    "poly_coefs =  Variable(torch.randn(3).type(torch.float), requires_grad=True)\n",
    "\n",
    "x = torch.tensor([[2.0, 0.0], [1.0, 1.0]])\n",
    "zero_mask = (x == 0.0)\n",
    "print(zero_mask)\n",
    "out = functorch.vmap(poly_func)(\n",
    "    x, \n",
    "    poly_coefs = poly_coefs,\n",
    "    )\n",
    "out[zero_mask] = 0.0\n",
    "out.sum().backward()"
   ]
  },
  {
   "cell_type": "code",
   "execution_count": null,
   "metadata": {},
   "outputs": [],
   "source": [
    "poly_coefs.grad"
   ]
  },
  {
   "cell_type": "code",
   "execution_count": 91,
   "metadata": {},
   "outputs": [
    {
     "data": {
      "text/plain": [
       "[<matplotlib.lines.Line2D at 0x7f969c412730>]"
      ]
     },
     "execution_count": 91,
     "metadata": {},
     "output_type": "execute_result"
    },
    {
     "data": {
      "image/png": "[encoded data removed]",
      "text/plain": [
       "<Figure size 640x480 with 1 Axes>"
      ]
     },
     "metadata": {},
     "output_type": "display_data"
    }
   ],
   "source": [
    "import matplotlib.pyplot as plt\n",
    "\n",
    "\n",
    "def poly_func(x, poly_coefs):\n",
    "    out = np.zeros_like(x)\n",
    "    # skip offset\n",
    "    for k in range(poly_coefs.shape[0] - 1):\n",
    "        out += (x ** (k + 1)) * (poly_coefs[k + 1])\n",
    "    return out\n",
    "\n",
    "x = np.arange(0,0.4,0.01)\n",
    "a = [0]*5\n",
    "\n",
    "# a = [ 0.0000, -0.0330, -0.0279, -0.0081, -0.0021] # film\n",
    "# a = [0.0000, 0.0779, 0.0294, 0.0066, 0.0015] # chameleon\n",
    "# a = [0.0000, 0.2397, 0.2365, 0.2291, 0.2168] # cora\n",
    "# a = [ 0.0000, 30.9898, 26.9427, 21.4760, 17.4812]\n",
    "# a = [ 0.0000, 34.3352, 30.4187, 25.5207, 21.1020]\n",
    "a = [0., 1., 0., 0., 0.]\n",
    "poly_coefs = np.array(a)\n",
    "y = poly_func(x, poly_coefs)\n",
    "\n",
    "plt.plot(x,y)"
   ]
  },
  {
   "cell_type": "code",
   "execution_count": 1,
   "metadata": {},
   "outputs": [],
   "source": [
    "import numpy as np \n",
    "import scipy.sparse as sp"
   ]
  },
  {
   "cell_type": "code",
   "execution_count": 3,
   "metadata": {},
   "outputs": [],
   "source": [
    "a = np.array([1,3,0,0,0,1,2])\n",
    "b = sp.csr_array(a)"
   ]
  },
  {
   "cell_type": "code",
   "execution_count": 7,
   "metadata": {},
   "outputs": [
    {
     "data": {
      "text/plain": [
       "array([[1, 3, 0, 0, 0, 1, 2]])"
      ]
     },
     "execution_count": 7,
     "metadata": {},
     "output_type": "execute_result"
    }
   ],
   "source": [
    "b.todense()"
   ]
  },
  {
   "cell_type": "code",
   "execution_count": 16,
   "metadata": {},
   "outputs": [
    {
     "data": {
      "text/plain": [
       "3.1542591750621796"
      ]
     },
     "execution_count": 16,
     "metadata": {},
     "output_type": "execute_result"
    }
   ],
   "source": [
    "def mat_to_bytes(nrows, ncols, dtype=32, out=\"GB\"):\n",
    "    \"\"\"Calculate the size of a numpy array in bytes.\n",
    "        :param nrows: the number of rows of the matrix.\n",
    "        :param ncols: the number of columns of the matrix.\n",
    "        :param dtype: the size of each element in the matrix. Defaults to 32bits.\n",
    "        :param out: the output unit. Defaults to gigabytes (GB)\n",
    "        :returns: the size of the matrix in the given unit\n",
    "        :rtype: a float\n",
    "        \"\"\"\n",
    "    sizes = {v: i for i, v in enumerate(\"BYTES KB MB GB TB\".split())}\n",
    "    return nrows * ncols * dtype / 8 / 1024. ** sizes[out]\n",
    "\n",
    "mat_to_bytes(5000, 169343, 32, \"GB\") \n"
   ]
  },
  {
   "cell_type": "code",
   "execution_count": 1,
   "metadata": {},
   "outputs": [],
   "source": [
    "import pickle \n",
    "\n",
    "\n",
    "filepath = \"/home/xingzguo/projects_data/DynMixer/ogbn-products/raw_data/raw_node_label.pkl\"\n",
    "with open(filepath,'rb') as f:\n",
    "    lbs = pickle.load(f)"
   ]
  },
  {
   "cell_type": "code",
   "execution_count": 13,
   "metadata": {},
   "outputs": [
    {
     "name": "stdout",
     "output_type": "stream",
     "text": [
      "(2379138, 47)\n"
     ]
    }
   ],
   "source": [
    "import numpy as np  \n",
    "lb_arr = []\n",
    "t_lim = 60_000_000\n",
    "for (key, arr, t) in lbs:\n",
    "    if t > t_lim:\n",
    "        break\n",
    "    lb_arr.append(arr)\n",
    "lb_arr = np.array(lb_arr, dtype=bool)\n",
    "print (lb_arr.shape)\n"
   ]
  },
  {
   "cell_type": "code",
   "execution_count": 14,
   "metadata": {},
   "outputs": [
    {
     "data": {
      "text/plain": [
       "array([111581, 107886, 111829, 142459, 644135,  40146, 156729, 168462,\n",
       "       108965,  65798,  51221,  28783, 130017,  99269,   3023,  26713,\n",
       "        82134,  41695,  47918,  17095,  22227,  79935,    856,   3576,\n",
       "        43344,   2994,    542,    253,   1822,   1475,    233,    410,\n",
       "          506,     29,    153,     43,    610,    510,     91,     37,\n",
       "            2,     59,  31690,   1321,    552,      9,      1])"
      ]
     },
     "execution_count": 14,
     "metadata": {},
     "output_type": "execute_result"
    }
   ],
   "source": [
    "lb_arr.sum(axis = 0)"
   ]
  },
  {
   "cell_type": "code",
   "execution_count": 15,
   "metadata": {},
   "outputs": [
    {
     "data": {
      "text/plain": [
       "2379138"
      ]
     },
     "execution_count": 15,
     "metadata": {},
     "output_type": "execute_result"
    }
   ],
   "source": [
    "(lb_arr.sum(axis = 1) !=0).sum()"
   ]
  },
  {
   "cell_type": "code",
   "execution_count": 17,
   "metadata": {},
   "outputs": [
    {
     "data": {
      "text/plain": [
       "array([111581, 107886, 111829, 142459, 644135,  40146, 156729, 168462,\n",
       "       108965,  65798,  51221,  28783, 130017,  99269,   3023,  26713,\n",
       "        82134,  41695,  47918,  17095,  22227,  79935,    856,   3576,\n",
       "        43344,   2994,    542,    253,   1822,   1475,    233,    410,\n",
       "          506,     29,    153,     43,    610,    510,     91,     37,\n",
       "            2,     59,  31690,   1321,    552,      9,      1])"
      ]
     },
     "execution_count": 17,
     "metadata": {},
     "output_type": "execute_result"
    }
   ],
   "source": [
    "lb_arr.sum(axis = 0)"
   ]
  },
  {
   "cell_type": "code",
   "execution_count": 32,
   "metadata": {},
   "outputs": [
    {
     "name": "stdout",
     "output_type": "stream",
     "text": [
      "[       nan 0.         0.66666667]\n"
     ]
    },
    {
     "name": "stderr",
     "output_type": "stream",
     "text": [
      "/tmp/ipykernel_2701/3254348246.py:35: DeprecationWarning: `np.float` is a deprecated alias for the builtin `float`. To silence this warning, use `float` by itself. Doing this will not modify any behavior and is safe. If you specifically wanted the numpy scalar type, use `np.float64` here.\n",
      "Deprecated in NumPy 1.20; for more details and guidance: https://numpy.org/devdocs/release/1.20.0-notes.html#deprecations\n",
      "  ], dtype=np.float\n"
     ]
    },
    {
     "data": {
      "text/plain": [
       "array([[nan, nan, nan],\n",
       "       [ 0.,  0.,  0.],\n",
       "       [ 1.,  0.,  1.]])"
      ]
     },
     "execution_count": 32,
     "metadata": {},
     "output_type": "execute_result"
    }
   ],
   "source": [
    "import numpy as np \n",
    "\n",
    "def simulate_additive_noise(\n",
    "    original_feat_mat: np.ndarray,\n",
    "    snapshot_id,\n",
    "    total_snapshot,\n",
    "    base_original_sign: float = 0.4,\n",
    "):\n",
    "    # Simulate\n",
    "    # number of features\n",
    "    original_feat = np.copy(original_feat_mat)\n",
    "    num_row, num_col = original_feat.shape\n",
    "    origin_p = base_original_sign + (1 - base_original_sign) * (\n",
    "        snapshot_id\n",
    "    ) / (total_snapshot - 1)\n",
    "    noise_p = 1.0 - origin_p\n",
    "    mu = np.mean(original_feat, axis=1)\n",
    "    print (mu)\n",
    "    nnz_ids = ~np.isnan(mu)\n",
    "    # print(nnz_ids)\n",
    "    mu_nnz = np.mean(original_feat[nnz_ids])\n",
    "    std_nnz = np.std(original_feat[nnz_ids])\n",
    "    # print(mu_nnz, std_nnz )\n",
    "    noise_mat = np.random.normal(mu_nnz, std_nnz, (nnz_ids.sum(), num_col))\n",
    "    original_feat[nnz_ids] = origin_p*original_feat[nnz_ids] + noise_p*noise_mat\n",
    "\n",
    "    # print(snapshot_id, total_snapshot, origin_p, noise_p)\n",
    "    return original_feat\n",
    "\n",
    "original_feat_mat = np.array(\n",
    "    [\n",
    "        [np.nan,np.nan,np.nan],\n",
    "        [0,0,0],\n",
    "        [1,0,1],\n",
    "    ], dtype=np.float\n",
    ")\n",
    "\n",
    "simulate_additive_noise(original_feat_mat,3,4)\n"
   ]
  },
  {
   "cell_type": "code",
   "execution_count": 49,
   "metadata": {},
   "outputs": [],
   "source": [
    "import numpy as np \n",
    "import torch_geometric.transforms as T\n",
    "import torch_geometric\n",
    "import torch\n",
    "import os\n",
    "from typing import Any, Callable, List, Optional, Tuple\n",
    "\n",
    "from torch_geometric.data import (\n",
    "    Data,\n",
    "    InMemoryDataset,\n",
    "    download_url,\n",
    "    extract_zip,\n",
    ")\n",
    "\n",
    "\n",
    "from typing import Any, Callable, Optional, Tuple\n",
    "from torch_geometric.datasets import EllipticBitcoinDataset\n",
    "\n",
    "\n",
    "class EllipticBitcoinTempDataset(InMemoryDataset):\n",
    "    r\"\"\"The Elliptic Bitcoin dataset of Bitcoin transactions from the\n",
    "    `\"Anti-Money Laundering in Bitcoin: Experimenting with Graph Convolutional\n",
    "    Networks for Financial Forensics\" <https://arxiv.org/abs/1908.02591>`_\n",
    "    paper.\n",
    "\n",
    "\n",
    "        * - #nodes\n",
    "          - #edges\n",
    "          - #features\n",
    "          - #classes\n",
    "        * - 203,769\n",
    "          - 234,355\n",
    "          - 165\n",
    "          - 2\n",
    "    \"\"\"\n",
    "    url = 'https://data.pyg.org/datasets/elliptic'\n",
    "\n",
    "    def __init__(self, root: str, transform: Optional[Callable] = None,\n",
    "                 pre_transform: Optional[Callable] = None):\n",
    "        super().__init__(root, transform, pre_transform)\n",
    "        self.data, self.slices = torch.load(self.processed_paths[0])\n",
    "\n",
    "    @property\n",
    "    def raw_file_names(self) -> List[str]:\n",
    "        return [\n",
    "            'elliptic_txs_features.csv',\n",
    "            'elliptic_txs_edgelist.csv',\n",
    "            'elliptic_txs_classes.csv',\n",
    "        ]\n",
    "\n",
    "    @property\n",
    "    def processed_file_names(self) -> str:\n",
    "        return 'data.pt'\n",
    "\n",
    "    def download(self):\n",
    "        for file_name in self.raw_file_names:\n",
    "            path = download_url(f'{self.url}/{file_name}.zip', self.raw_dir)\n",
    "            extract_zip(path, self.raw_dir)\n",
    "            os.remove(path)\n",
    "\n",
    "    def _process_df(self, feat_df: Any, edge_df: Any,\n",
    "                    class_df: Any) -> Tuple[Any, Any, Any]:\n",
    "        \n",
    "        print('test', feat_df )\n",
    "        \n",
    "        return feat_df, edge_df, class_df\n",
    "\n",
    "    def process(self):\n",
    "        import pandas as pd\n",
    "\n",
    "        feat_df = pd.read_csv(self.raw_paths[0], header=None)\n",
    "        edge_df = pd.read_csv(self.raw_paths[1])\n",
    "        class_df = pd.read_csv(self.raw_paths[2])\n",
    "\n",
    "        columns = {0: 'txId', 1: 'time_step'}\n",
    "        feat_df = feat_df.rename(columns=columns)\n",
    "\n",
    "        feat_df, edge_df, class_df = self._process_df(\n",
    "            feat_df,\n",
    "            edge_df,\n",
    "            class_df,\n",
    "        )\n",
    "\n",
    "        x = torch.from_numpy(feat_df.loc[:, 2:].values).to(torch.float)\n",
    "\n",
    "        # There exists 3 different classes in the dataset:\n",
    "        # 0=licit,  1=illicit, 2=unknown\n",
    "        mapping = {'unknown': 2, '1': 1, '2': 0}\n",
    "        class_df['class'] = class_df['class'].map(mapping)\n",
    "        y = torch.from_numpy(class_df['class'].values)\n",
    "\n",
    "        mapping = {idx: i for i, idx in enumerate(feat_df['txId'].values)}\n",
    "        edge_df['txId1'] = edge_df['txId1'].map(mapping)\n",
    "        edge_df['txId2'] = edge_df['txId2'].map(mapping)\n",
    "        # edge_df should sort\n",
    "        edge_index = torch.from_numpy(edge_df.values).t().contiguous()\n",
    "        \n",
    "\n",
    "        # Timestamp based split:\n",
    "        # train_mask: 1 - 34 time_step, test_mask: 35-49 time_step\n",
    "        time_step = torch.from_numpy(feat_df['time_step'].values)\n",
    "        train_mask = (time_step < 35) & (y != 2)\n",
    "        test_mask = (time_step >= 35) & (y != 2)\n",
    "\n",
    "        data = Data(x=x, edge_index=edge_index, y=y, train_mask=train_mask,\n",
    "                    test_mask=test_mask)\n",
    "\n",
    "        if self.pre_transform is not None:\n",
    "            data = self.pre_transform(data)\n",
    "\n",
    "        torch.save(self.collate([data]), self.processed_paths[0])\n",
    "\n",
    "    @property\n",
    "    def num_classes(self) -> int:\n",
    "        return 2\n",
    "    "
   ]
  },
  {
   "cell_type": "code",
   "execution_count": 51,
   "metadata": {},
   "outputs": [
    {
     "name": "stdout",
     "output_type": "stream",
     "text": [
      "feature torch.Size([203769, 165])\n",
      "label tensor([2, 2, 2,  ..., 1, 2, 2])\n",
      "0 203768\n",
      "[[     0      2      4 ... 201921 201480 201954]\n",
      " [     1      3      5 ... 202042 201368 201756]]\n"
     ]
    }
   ],
   "source": [
    "\n",
    "dataset_pyg = EllipticBitcoinTempDataset(\n",
    "    root = './',\n",
    ")\n",
    "\n",
    "edge_list = dataset_pyg[0].edge_index.numpy().astype(np.int32)\n",
    "# print('edge-list', edge_list.shape)\n",
    "print('feature', dataset_pyg[0].x.shape)\n",
    "print('label', dataset_pyg[0].y)\n",
    "print(np.min(edge_list), np.max(edge_list)) # index from zero\n",
    "print(edge_list)\n",
    "\n",
    "\n"
   ]
  },
  {
   "cell_type": "code",
   "execution_count": null,
   "metadata": {},
   "outputs": [],
   "source": []
  }
 ],
 "metadata": {
  "kernelspec": {
   "display_name": "Python 3.8.15 ('DynGL')",
   "language": "python",
   "name": "python3"
  },
  "language_info": {
   "codemirror_mode": {
    "name": "ipython",
    "version": 3
   },
   "file_extension": ".py",
   "mimetype": "text/x-python",
   "name": "python",
   "nbconvert_exporter": "python",
   "pygments_lexer": "ipython3",
   "version": "3.8.15"
  },
  "orig_nbformat": 4,
  "vscode": {
   "interpreter": {
    "hash": "b5d2ccb7684c46d8ee02d390ebe5b031224e4f061fd3cbf251699a3eb548b24b"
   }
  }
 },
 "nbformat": 4,
 "nbformat_minor": 2
}
